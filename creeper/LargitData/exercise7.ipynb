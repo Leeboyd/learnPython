{
 "cells": [
  {
   "cell_type": "code",
   "execution_count": 200,
   "metadata": {},
   "outputs": [
    {
     "name": "stdout",
     "output_type": "stream",
     "text": [
      "get_all_activities_url: 21.659\n"
     ]
    }
   ],
   "source": [
    "import requests\n",
    "from bs4 import BeautifulSoup\n",
    "import time\n",
    "import datetime\n",
    "import MySQLdb\n",
    "all_activities_url = []\n",
    "page = 1\n",
    "domain = 'https://streetvoice.com/venue/activities/all/0/'\n",
    "start_time = time.time()\n",
    "\n",
    "def get_time(job, end_time):\n",
    "    print(\"%s: %.3f\" % (job, end_time))\n",
    "\n",
    "def get_content(domain, selector, page=1):\n",
    "    query_string = {\n",
    "        'page': page\n",
    "    }\n",
    "    html = requests.get(domain, params=query_string).text\n",
    "    soup = BeautifulSoup(html)\n",
    "    return soup.select(selector)\n",
    "\n",
    "html_activities = get_content(domain, '.live-item-info')\n",
    "\n",
    "while len(html_activities) > 0:\n",
    "    for activity in html_activities:\n",
    "        url = activity.select('h3 a', href=True)[0][\"href\"]\n",
    "        all_activities_url.append(f'https://streetvoice.com{url}')\n",
    "    page += 1\n",
    "    html_activities = get_content(domain, '.live-item-info', page)\n",
    "    time.sleep(5)\n",
    "\n",
    "end_time = time.time() - start_time\n",
    "get_time('get_all_activities_url', end_time)"
   ]
  },
  {
   "cell_type": "code",
   "execution_count": 76,
   "metadata": {},
   "outputs": [],
   "source": [
    "#SQL connection data to connect and save the data in\n",
    "HOST = \"114.34.237.146\"\n",
    "USERNAME = \"root\"\n",
    "PASSWORD = \"\"\n",
    "DATABASE = \"Bump\"\n",
    "PORT = 3000"
   ]
  },
  {
   "cell_type": "code",
   "execution_count": 202,
   "metadata": {},
   "outputs": [
    {
     "name": "stdout",
     "output_type": "stream",
     "text": [
      "get_all_activity_content: 127.526\n"
     ]
    }
   ],
   "source": [
    "def to_timestamp(time_list):\n",
    "    YMD_list = time_list[0].split(' ')\n",
    "    dt_local = datetime.datetime.strptime(f'{YMD_list[0]}-{YMD_list[2].zfill(2)}-{YMD_list[4].zfill(2)} {time_list[2]}:00','%Y-%m-%d %H:%M:%S')\n",
    "    ts = time.mktime(dt_local.timetuple()) + 1e-6 * dt_local.microsecond\n",
    "    dt_utc = datetime.datetime.utcfromtimestamp(ts)\n",
    "    return str(dt_utc)\n",
    "\n",
    "start_time = time.time()\n",
    "activity_database = []\n",
    "\n",
    "for url in all_activities_url:\n",
    "    soup_tmp = BeautifulSoup(requests.get(url).text).select('#pjax-container')[0]\n",
    "    activity_database.append({\n",
    "        'title': soup_tmp.select('h1')[0].text,\n",
    "        'artist': soup_tmp.select('h3:nth-of-type(4)')[0].text.strip(),\n",
    "        'startTime': to_timestamp(soup_tmp.select('h3:nth-of-type(1)')[0].text.strip().split(' l ')),\n",
    "        'website': url,\n",
    "        'photo': soup_tmp.select('img')[0]['src'],\n",
    "        'describe': str(soup_tmp.select('.article-block')[0]),\n",
    "        'location': soup_tmp.select('h3:nth-of-type(2)')[0].text.strip().split('\\n')[0].split('．')[1]\n",
    "    })\n",
    "    time.sleep(3)\n",
    "\n",
    "end_time = time.time() - start_time\n",
    "get_time('get_all_activity_content', end_time)"
   ]
  },
  {
   "cell_type": "code",
   "execution_count": 203,
   "metadata": {},
   "outputs": [
    {
     "name": "stdout",
     "output_type": "stream",
     "text": [
      "insert_all_activity: 0.982\n"
     ]
    }
   ],
   "source": [
    "start_time = time.time()\n",
    "\n",
    "db = MySQLdb.connect(host=HOST, user=USERNAME, db=DATABASE, port=PORT)\n",
    "# prepare a cursor object using cursor() method\n",
    "cursor = db.cursor()\n",
    "table = 'GigSource_copy'\n",
    "columns = ', '.join(list(map(lambda prop: f'`{prop}`', activity_database[0].keys())))\n",
    "placeholders = \", \".join(['{}'] * len(activity_database[0]))\n",
    "sql = \"insert into {table} ({columns}) values ({values});\".format(table=table, columns=columns, values=placeholders)\n",
    "\n",
    "for activity in activity_database:\n",
    "    sql_string = sql.format(\n",
    "        repr(activity.get('title')),\n",
    "        repr(activity.get('artist')),\n",
    "        repr(activity.get('startTime')), \n",
    "        repr(activity.get('website')), \n",
    "        repr(activity.get('photo')), \n",
    "        repr(activity.get('describe')), \n",
    "        repr(activity.get('location'))\n",
    "    )\n",
    "    try:\n",
    "        db.ping(True)\n",
    "        # Execute the SQL command\n",
    "        cursor.execute(sql_string)\n",
    "        # Commit your changes in the database\n",
    "        db.commit()\n",
    "    except:\n",
    "        # Rollback in case there is any error\n",
    "        db.rollback()\n",
    "        # disconnect from server\n",
    "        db.close()\n",
    "\n",
    "end_time = time.time() - start_time\n",
    "get_time('insert_all_activity', end_time)"
   ]
  }
 ],
 "metadata": {
  "file_extension": ".py",
  "kernelspec": {
   "display_name": "finlab",
   "language": "python",
   "name": "finlab"
  },
  "language_info": {
   "codemirror_mode": {
    "name": "ipython",
    "version": 3
   },
   "file_extension": ".py",
   "mimetype": "text/x-python",
   "name": "python",
   "nbconvert_exporter": "python",
   "pygments_lexer": "ipython3",
   "version": "3.7.6"
  },
  "mimetype": "text/x-python",
  "name": "python",
  "npconvert_exporter": "python",
  "pygments_lexer": "ipython3",
  "version": 3
 },
 "nbformat": 4,
 "nbformat_minor": 2
}