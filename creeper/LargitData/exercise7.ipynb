{
 "nbformat": 4,
 "nbformat_minor": 2,
 "metadata": {
  "language_info": {
   "name": "python",
   "codemirror_mode": {
    "name": "ipython",
    "version": 3
   },
   "version": "3.7.4-final"
  },
  "orig_nbformat": 2,
  "file_extension": ".py",
  "mimetype": "text/x-python",
  "name": "python",
  "npconvert_exporter": "python",
  "pygments_lexer": "ipython3",
  "version": 3,
  "kernelspec": {
   "name": "python37464bitcreepervenv163a5957a825496294f69182b8a6dc2b",
   "display_name": "Python 3.7.4 64-bit ('creeper': venv)"
  }
 },
 "cells": [
  {
   "cell_type": "code",
   "execution_count": 70,
   "metadata": {},
   "outputs": [],
   "source": [
    "import requests\n",
    "from bs4 import BeautifulSoup\n",
    "import time\n",
    "import datetime\n",
    "import MySQLdb\n",
    "all_activities_url = []\n",
    "page = 1\n",
    "domain = 'https://streetvoice.com/venue/activities/all/0/'\n",
    "\n",
    "def get_content(domain, selector, page=1):\n",
    "    query_string = {\n",
    "        'page': page\n",
    "    }\n",
    "    html = requests.get(domain, params=query_string).text\n",
    "    soup = BeautifulSoup(html)\n",
    "    return soup.select(selector)\n",
    "\n",
    "html_activities = get_content(domain, '.live-item-info')\n",
    "\n",
    "while len(html_activities) > 0:\n",
    "    for activity in html_activities:\n",
    "        url = activity.select('h3 a', href=True)[0][\"href\"]\n",
    "        all_activities_url.append(f'https://streetvoice.com{url}')\n",
    "    page += 1\n",
    "    html_activities = get_content(domain, '.live-item-info', page)\n",
    "    time.sleep(5)"
   ]
  },
  {
   "cell_type": "code",
   "execution_count": 76,
   "metadata": {},
   "outputs": [],
   "source": [
    "#SQL connection data to connect and save the data in\n",
    "HOST = \"114.34.237.146\"\n",
    "USERNAME = \"root\"\n",
    "PASSWORD = \"\"\n",
    "DATABASE = \"Bump\"\n",
    "PORT = 3000"
   ]
  },
  {
   "cell_type": "code",
   "execution_count": 197,
   "metadata": {},
   "outputs": [
    {
     "name": "stdout",
     "output_type": "stream",
     "text": "[{'title': '《南國再見，南國》秘密集會VOL.1：憨孫仔 午場 ＠台北場新店飄香麵館', 'artist': 'Theseus忒修斯', 'startTime': '2020-05-09 04:00:00', 'website': 'https://streetvoice.com/venue/activities/903/', 'photo': 'https://cfstatic.streetvoice.com/venue_activity_image/2020/03/12/99f0ea7629de4930a4c8981cd3908f72.jpg?x-oss-process=image/resize,m_fill,h_440,w_830,limit_0/interlace,1/quality,q_85/format,jpg', 'describe': '<div class=\"text-read article-block mb-5\">\\n<p>完成《南國再見，南國》後，<br/>我們對於歌曲故事如何講述，持續苦惱著。<br/>深怕只透過巡演，依然木訥的我們，<br/>能不能娓娓道來這兩年的時光，<br/>又將如此珍貴的交往，變得太過輕巧，<br/><br/>『還是吃一頓飯，好好坐著聊聊天吧。』<br/><br/>於是，我們決定在台北、台中、高雄，<br/>分別對應EP曲目中的三首歌曲，<br/>選擇特別的場所，舉辦「秘密集會｜食唱會」<br/><br/>『活動結束前，我們不會把整張作品數位上架！』<br/><br/>我們希望，能夠與妳/你一起好好聆聽，<br/>我們銘記的痛苦與美好記憶，好好聚一聚。<br/>第一場演出，直接從「家裏」開始唱。<br/><br/>我們選擇主唱小正家的牛肉麵館「飄香麵館」<br/>一個承載二十多年，成長記憶的地方開始，<br/>與台北聽眾們一同品嚐家中最溫暖的味道。<br/><br/>這場集會邀請每一個被迫長大，<br/>卻仍共享成長回憶的妳/你，<br/>一起來到主唱小正奶奶開的牛肉麵店，<br/>享用當日忒餐：飄香祖傳忒別版牛肉麵。<br/>讓我們一同歌唱，<br/>用奶奶的手藝與家鄉味溫暖心房。<br/><br/>- - - -<br/>地址：新北市新店區寶安街31號（近大坪林捷運站）<br/><br/>1.當日進場依募資憑證入場<br/>2.當日提供飄香祖傳忒別版牛肉麵乙組<br/>3.進場時間13:00-13:30<br/>4.演出總長為120分鐘，請邊享用牛肉麵！<br/>5.演後將有簽售行程，於募款平台先行購買者，同樣出示憑證即可先行提取。</p>\\n</div>', 'location': '飄香麵館'}, {'title': '《南國再見，南國》秘密集會VOL.1：憨孫仔 晚場 ＠台北場新店飄香麵館', 'artist': 'Theseus忒修斯', 'startTime': '2020-05-09 10:00:00', 'website': 'https://streetvoice.com/venue/activities/904/', 'photo': 'https://cfstatic.streetvoice.com/venue_activity_image/2020/03/12/74e4a37214794b0a94440450b1bce3e7.jpg?x-oss-process=image/resize,m_fill,h_440,w_830,limit_0/interlace,1/quality,q_85/format,jpg', 'describe': '<div class=\"text-read article-block mb-5\">\\n<p>完成《南國再見，南國》後，<br/>我們對於歌曲故事如何講述，持續苦惱著。<br/>深怕只透過巡演，依然木訥的我們，<br/>能不能娓娓道來這兩年的時光，<br/>又將如此珍貴的交往，變得太過輕巧，<br/><br/>『還是吃一頓飯，好好坐著聊聊天吧。』<br/><br/>於是，我們決定在台北、台中、高雄，<br/>分別對應EP曲目中的三首歌曲，<br/>選擇特別的場所，舉辦「秘密集會｜食唱會」<br/><br/>『活動結束前，我們不會把整張作品數位上架！』<br/><br/>我們希望，能夠與妳/你一起好好聆聽，<br/>我們銘記的痛苦與美好記憶，好好聚一聚。<br/><br/>--<br/>地址：新北市新店區寶安街31號（近大坪林捷運站）<br/><br/><br/>1.當日進場依募資憑證入場<br/>2.當日提供飄香祖傳忒別版牛肉麵乙組<br/>3.進場時間17:30-18:00<br/>4.演出總長為120分鐘，請邊享用牛肉麵！<br/>5.演後將有簽售行程，於募款平台先行購買者，同樣出示憑證即可先行提取。</p>\\n</div>', 'location': '飄香麵館'}, {'title': '《南國再見，南國》秘密集會VOL.2：點敬妳/你的菸＠台中元氣唱片行', 'artist': 'Theseus忒修斯', 'startTime': '2020-05-23 12:00:00', 'website': 'https://streetvoice.com/venue/activities/905/', 'photo': 'https://cfstatic.streetvoice.com/venue_activity_image/2020/03/12/f5a50ed0df9d4dfaa60b4dc35b2763fe.jpg?x-oss-process=image/resize,m_fill,h_440,w_830,limit_0/interlace,1/quality,q_85/format,jpg', 'describe': '<div class=\"text-read article-block mb-5\">\\n<p>完成《南國再見，南國》後，<br/>我們對於歌曲故事如何講述，持續苦惱著。<br/>深怕只透過巡演，依然木訥的我們，<br/>能不能娓娓道來這兩年的時光，<br/>又將如此珍貴的交往，變得太過輕巧，<br/><br/>『還是吃一頓飯，好好坐著聊聊天吧。』<br/><br/>於是，我們決定在台北、台中、高雄，<br/>分別對應EP曲目中的三首歌曲，<br/>選擇特別的場所，舉辦「秘密集會｜食唱會」<br/>『活動結束前，我們不會把整張作品數位上架！』<br/><br/>我們希望，能夠與妳/你一起好好聆聽，<br/>我們銘記的痛苦與美好記憶，好好聚一聚。<br/><br/>- - - -<br/><br/>元氣唱片行為台中重要音樂場景，<br/>販售的每張唱片都是音樂人灌注的意念，<br/>而每個聽眾，都因著被旋律、歌詞觸動，<br/>共同分享著同個情緒。<br/><br/>這場集會邀請所有，<br/>學會掩蓋秘密與情緒的妳/你，<br/>來到販售所有歌者，<br/>灌注秘密與情緒的元氣唱片行，<br/>享用當日忒餐：忒手作杯子蛋糕＋餅乾小物。<br/>讓我們拋開所有隱含在時代裡的秘密，<br/>只做好自己想要做的自己。<br/><br/>- - - -<br/>地址：台中市西區福龍街7號<br/><br/>1.當日進場依募資憑證入場<br/>2.當日提供忒手作杯子蛋糕＋餅乾與飲料乙組<br/>3.進場時間 19:30-20:00<br/>4.演出總長為120分鐘，請邊享用我們手作的愛！<br/>5.演後將有簽售行程，於募款平台先行購買者，同樣出示憑證即可先行提取。</p>\\n</div>', 'location': '元氣唱片行'}]\n"
    }
   ],
   "source": [
    "def to_timestamp(time_list):\n",
    "    YMD_list = time_list[0].split(' ')\n",
    "    dt_local = datetime.datetime.strptime(f'{YMD_list[0]}-{YMD_list[2].zfill(2)}-{YMD_list[4].zfill(2)} {time_list[2]}:00','%Y-%m-%d %H:%M:%S')\n",
    "    ts = time.mktime(dt_local.timetuple()) + 1e-6 * dt_local.microsecond\n",
    "    dt_utc = datetime.datetime.utcfromtimestamp(ts)\n",
    "    return str(dt_utc)\n",
    "\n",
    "tmp_urls = ['https://streetvoice.com/venue/activities/903/', 'https://streetvoice.com/venue/activities/904/', 'https://streetvoice.com/venue/activities/905/']\n",
    "\n",
    "activity_database = []\n",
    "\n",
    "for url in tmp_urls:\n",
    "    soup_tmp = BeautifulSoup(requests.get(url).text).select('#pjax-container')[0]\n",
    "    activity_database.append({\n",
    "        'title': soup_tmp.select('h1')[0].text,\n",
    "        'artist': soup_tmp.select('h3:nth-of-type(4)')[0].text.strip(),\n",
    "        'startTime': to_timestamp(soup_tmp.select('h3:nth-of-type(1)')[0].text.strip().split(' l ')),\n",
    "        'website': url,\n",
    "        'photo': soup_tmp.select('img')[0]['src'],\n",
    "        'describe': str(soup_tmp.select('.article-block')[0]),\n",
    "        'location': soup_tmp.select('h3:nth-of-type(2)')[0].text.strip().split('\\n')[0].split('．')[1]\n",
    "    })\n",
    "    time.sleep(3)"
   ]
  },
  {
   "cell_type": "code",
   "execution_count": 198,
   "metadata": {},
   "outputs": [],
   "source": [
    "db = MySQLdb.connect(host=HOST, user=USERNAME, db=DATABASE, port=PORT)\n",
    "# prepare a cursor object using cursor() method\n",
    "cursor = db.cursor()\n",
    "table = 'GigSource_copy'\n",
    "columns = ', '.join(list(map(lambda prop: f'`{prop}`', activity_database[0].keys())))\n",
    "placeholders = \", \".join(['{}'] * len(activity_database[0]))\n",
    "sql = \"insert into {table} ({columns}) values ({values});\".format(table=table, columns=columns, values=placeholders)\n",
    "\n",
    "for activity in activity_database:\n",
    "    sql_string = sql.format(\n",
    "        repr(activity.get('title')),\n",
    "        repr(activity.get('artist')),\n",
    "        repr(activity.get('startTime')), \n",
    "        repr(activity.get('website')), \n",
    "        repr(activity.get('photo')), \n",
    "        repr(activity.get('describe')), \n",
    "        repr(activity.get('location'))\n",
    "    )\n",
    "    try:\n",
    "        db.ping(True)\n",
    "        # Execute the SQL command\n",
    "        cursor.execute(sql_string)\n",
    "        # Commit your changes in the database\n",
    "        db.commit()\n",
    "    except:\n",
    "        # Rollback in case there is any error\n",
    "        db.rollback()\n",
    "        # disconnect from server\n",
    "        db.close()"
   ]
  }
 ]
}