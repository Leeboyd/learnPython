{
 "nbformat": 4,
 "nbformat_minor": 2,
 "metadata": {
  "language_info": {
   "name": "python",
   "codemirror_mode": {
    "name": "ipython",
    "version": 3
   }
  },
  "orig_nbformat": 2,
  "file_extension": ".py",
  "mimetype": "text/x-python",
  "name": "python",
  "npconvert_exporter": "python",
  "pygments_lexer": "ipython3",
  "version": 3,
  "kernelspec": {
   "name": "python3",
   "display_name": "Python 3"
  }
 },
 "cells": [
  {
   "cell_type": "code",
   "execution_count": 27,
   "metadata": {},
   "outputs": [
    {
     "name": "stdout",
     "output_type": "stream",
     "text": "無妄合作社《我愛搖滾樂》- 台中場 19:00 無妄合作社《我愛搖滾樂》- 台中場\n扶土成牆 vol.12 ////// 江東成名、海岸乾杯、遠鄉人 20:00 扶土成牆 vol.12 ////// 江東成名、海岸乾杯、遠鄉人\n派對、戀愛、閃一閃：EmptyORio ＆ 海豚刑警 20:00 派對、戀愛、閃一閃：EmptyORio ＆ 海豚刑警\nWAYNE BAND & Norton Street《Wayne州大諾頓》 20:30 WAYNE BAND & Norton Street《Wayne州大諾頓》\n諾堤<心之所向>巡迴-台北場 19:30 諾堤<心之所向>巡迴-台北場\n一池春水 19:30 一池春水\n金旋音樂節｜夢境交換所 12:30 金旋音樂節｜夢境交換所\n麻吉大亂鬥 Incredible night of MaJi 19:00 麻吉大亂鬥 Incredible night of MaJi\n無妄合作社《我愛搖滾樂》- 高雄場 19:30 無妄合作社《我愛搖滾樂》- 高雄場\n美麗的人，美麗的我和你 19:30 美麗的人，美麗的我和你\n歡樂未滿分隊：變胖校隊 / 未 not yet / 仲棋與他的快樂小夥伴 20:30 歡樂未滿分隊：變胖校隊 / 未 not yet / 仲棋與他的快樂小夥伴\n無妄合作社《我愛搖滾樂》- 台北場 19:30 無妄合作社《我愛搖滾樂》- 台北場\nLegacy mini @amba 邱莉舒／邱舒的時間 20:00 Legacy mini @amba 邱莉舒／邱舒的時間\nMark Darvill 20:30 Mark Darvill\n春風吹又生 20:00 春風吹又生\n戀戀敦南｜街頭演唱會 15:00 戀戀敦南｜街頭演唱會\n2020 安懂新歌發表會《順著海流》 20:00 2020 安懂新歌發表會《順著海流》\nMidi 楊士弘《狼狽的你們來看狼狽的我》巡迴台中場 20:00 Midi 楊士弘《狼狽的你們來看狼狽的我》巡迴台中場\n"
    }
   ],
   "source": [
    "import requests\n",
    "from bs4 import BeautifulSoup\n",
    "res = requests.get('https://streetvoice.com/venue/activities/all/0/')\n",
    "soup = BeautifulSoup(res.text)\n",
    "for activity in soup.select('.live-item-info'):\n",
    "    print(activity.select('.text-break')[0].text, activity.select('h4')[0].text.split('．')[0], activity.select('ul li a')[0].text)"
   ]
  },
  {
   "cell_type": "code",
   "execution_count": null,
   "metadata": {},
   "outputs": [],
   "source": []
  }
 ]
}