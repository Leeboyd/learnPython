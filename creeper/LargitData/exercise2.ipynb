{
 "nbformat": 4,
 "nbformat_minor": 2,
 "metadata": {
  "language_info": {
   "name": "python",
   "codemirror_mode": {
    "name": "ipython",
    "version": 3
   }
  },
  "orig_nbformat": 2,
  "file_extension": ".py",
  "mimetype": "text/x-python",
  "name": "python",
  "npconvert_exporter": "python",
  "pygments_lexer": "ipython3",
  "version": 3,
  "kernelspec": {
   "name": "python3",
   "display_name": "Python 3"
  }
 },
 "cells": [
  {
   "cell_type": "code",
   "execution_count": null,
   "metadata": {},
   "outputs": [],
   "source": [
    "import requests\n",
    "from bs4 import BeautifulSoup\n",
    "res = requests.get('https://streetvoice.com/venue/activities/all/0/')\n",
    "soup = BeautifulSoup(res.text)\n",
    "for activity in soup.select('.live-item-info'):\n",
    "    print(activity.select('.text-break')[0].text, activity.select('h4')[0].text.split('．')[0], activity.select('ul li a')[0].text)"
   ]
  },
  {
   "cell_type": "code",
   "execution_count": null,
   "metadata": {},
   "outputs": [],
   "source": [
    "query_string = {\n",
    " 'page': 2,\n",
    " '_pjax': '#pjax-container'\n",
    "}\n",
    "res2 = requests.get('https://streetvoice.com/venue/activities/all/0/', params=query_string)\n",
    "print(res2.url)"
   ]
  },
  {
   "cell_type": "code",
   "execution_count": null,
   "metadata": {},
   "outputs": [],
   "source": [
    "payload = {\n",
    " 'keywords': '赫爾辛基的雲 Clouds in Helsinki'\n",
    "}\n",
    "res3 = requests.post('https://streetvoice.com/api/v3/search_records/', data=payload)\n",
    "print(res3.text)"
   ]
  },
  {
   "cell_type": "code",
   "execution_count": null,
   "metadata": {},
   "outputs": [],
   "source": []
  }
 ]
}