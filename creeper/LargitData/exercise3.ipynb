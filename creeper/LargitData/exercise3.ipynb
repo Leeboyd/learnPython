{
 "nbformat": 4,
 "nbformat_minor": 2,
 "metadata": {
  "language_info": {
   "name": "python",
   "codemirror_mode": {
    "name": "ipython",
    "version": 3
   },
   "version": "3.7.4-final"
  },
  "orig_nbformat": 2,
  "file_extension": ".py",
  "mimetype": "text/x-python",
  "name": "python",
  "npconvert_exporter": "python",
  "pygments_lexer": "ipython3",
  "version": 3,
  "kernelspec": {
   "name": "python3",
   "display_name": "Python 3"
  }
 },
 "cells": [
  {
   "cell_type": "code",
   "execution_count": 20,
   "metadata": {},
   "outputs": [
    {
     "name": "stdout",
     "output_type": "stream",
     "text": "無妄合作社《我愛搖滾樂》- 台中場\n2020 年 3 月 13 日 l 星期五 l 19:00\n台中市．Legacy Taichung 傳 音樂展演空間\nhttps://www.google.com/maps/search/?api=1&query=Legacy Taichung 傳 音樂展演空間&query_place_id=ChIJg3ll0gEWaTQRWkBvX9uTUV0\nhttps://www.indievox.com/activity/detail/20_iV00299ac\n無妄合作社No-nonsense Collective\n"
    }
   ],
   "source": [
    "import requests\n",
    "from bs4 import BeautifulSoup\n",
    "res = requests.get('https://streetvoice.com/venue/activities/843/')\n",
    "soup = BeautifulSoup(res.text)\n",
    "main_content = soup.select('#pjax-container')[0]\n",
    "title = main_content.select('h1')[0].text\n",
    "event_date = main_content.select('h3:nth-of-type(1)')[0].text.strip()\n",
    "location = main_content.select('h3:nth-of-type(2)')[0].text.strip().split('\\n')[0]\n",
    "geo_location = main_content.select('h3:nth-of-type(2) a')[0].get('href')\n",
    "ticket_url = main_content.select('h3:nth-of-type(3) a')[0].get('href')\n",
    "actor = main_content.select('h3:nth-of-type(4)')[0].text.strip()\n",
    "print(title)\n",
    "print(event_date)\n",
    "print(location)\n",
    "print(geo_location)\n",
    "print(ticket_url)\n",
    "print(actor)"
   ]
  }
 ]
}