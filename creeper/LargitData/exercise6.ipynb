{
 "nbformat": 4,
 "nbformat_minor": 2,
 "metadata": {
  "language_info": {
   "name": "python",
   "codemirror_mode": {
    "name": "ipython",
    "version": 3
   },
   "version": "3.7.4-final"
  },
  "orig_nbformat": 2,
  "file_extension": ".py",
  "mimetype": "text/x-python",
  "name": "python",
  "npconvert_exporter": "python",
  "pygments_lexer": "ipython3",
  "version": 3,
  "kernelspec": {
   "name": "python37464bitcreepervenv163a5957a825496294f69182b8a6dc2b",
   "display_name": "Python 3.7.4 64-bit ('creeper': venv)"
  }
 },
 "cells": [
  {
   "cell_type": "code",
   "execution_count": 14,
   "metadata": {},
   "outputs": [
    {
     "name": "stdout",
     "output_type": "stream",
     "text": "[<td class=\"wuc9\" width=\"4%\">序</td>, <td class=\"wuc9\" width=\"30%\">持股/單位數分級</td>, <td class=\"wuc9\" width=\"22%\">人　　數</td>, <td class=\"wuc9\" width=\"22%\">股　　數/單位數</td>, <td class=\"wuc9\" width=\"22%\">占集保庫存數比例 (%)</td>]\n[<td align=\"center\">1</td>, <td align=\"center\">1-999</td>, <td align=\"right\">144,719</td>, <td align=\"right\">31,263,772</td>, <td align=\"right\">0.12</td>]\n[<td align=\"center\">2</td>, <td align=\"center\">1,000-5,000</td>, <td align=\"right\">134,665</td>, <td align=\"right\">275,019,345</td>, <td align=\"right\">1.06</td>]\n[<td align=\"center\">3</td>, <td align=\"center\">5,001-10,000</td>, <td align=\"right\">22,935</td>, <td align=\"right\">165,124,448</td>, <td align=\"right\">0.63</td>]\n[<td align=\"center\">4</td>, <td align=\"center\">10,001-15,000</td>, <td align=\"right\">8,698</td>, <td align=\"right\">105,907,877</td>, <td align=\"right\">0.40</td>]\n[<td align=\"center\">5</td>, <td align=\"center\">15,001-20,000</td>, <td align=\"right\">4,157</td>, <td align=\"right\">73,040,526</td>, <td align=\"right\">0.28</td>]\n[<td align=\"center\">6</td>, <td align=\"center\">20,001-30,000</td>, <td align=\"right\">4,535</td>, <td align=\"right\">110,701,877</td>, <td align=\"right\">0.42</td>]\n[<td align=\"center\">7</td>, <td align=\"center\">30,001-40,000</td>, <td align=\"right\">2,143</td>, <td align=\"right\">74,306,607</td>, <td align=\"right\">0.28</td>]\n[<td align=\"center\">8</td>, <td align=\"center\">40,001-50,000</td>, <td align=\"right\">1,353</td>, <td align=\"right\">60,950,984</td>, <td align=\"right\">0.23</td>]\n[<td align=\"center\">9</td>, <td align=\"center\">50,001-100,000</td>, <td align=\"right\">2,627</td>, <td align=\"right\">183,802,719</td>, <td align=\"right\">0.70</td>]\n[<td align=\"center\">10</td>, <td align=\"center\">100,001-200,000</td>, <td align=\"right\">1,576</td>, <td align=\"right\">219,886,360</td>, <td align=\"right\">0.84</td>]\n[<td align=\"center\">11</td>, <td align=\"center\">200,001-400,000</td>, <td align=\"right\">1,025</td>, <td align=\"right\">285,741,743</td>, <td align=\"right\">1.10</td>]\n[<td align=\"center\">12</td>, <td align=\"center\">400,001-600,000</td>, <td align=\"right\">408</td>, <td align=\"right\">199,275,407</td>, <td align=\"right\">0.76</td>]\n[<td align=\"center\">13</td>, <td align=\"center\">600,001-800,000</td>, <td align=\"right\">279</td>, <td align=\"right\">193,470,121</td>, <td align=\"right\">0.74</td>]\n[<td align=\"center\">14</td>, <td align=\"center\">800,001-1,000,000</td>, <td align=\"right\">194</td>, <td align=\"right\">172,976,184</td>, <td align=\"right\">0.66</td>]\n[<td align=\"center\">15</td>, <td align=\"center\">1,000,001以上</td>, <td align=\"right\">1,448</td>, <td align=\"right\">23,778,912,488</td>, <td align=\"right\">91.70</td>]\n[<td align=\"center\"> </td>, <td align=\"center\">合　計</td>, <td align=\"right\">330,762</td>, <td align=\"right\">25,930,380,458</td>, <td align=\"right\">100.00</td>]\n"
    }
   ],
   "source": [
    "from bs4 import BeautifulSoup as BS\n",
    "import requests\n",
    "url='https://www.tdcc.com.tw/smWeb/QryStockAjax.do'\n",
    "headers = {\"User-Agent\" : \"User-Agent:Mozilla/5.0 (compatible; MSIE 9.0; Windows NT 6.1; Trident/5.0;\"}\n",
    "payload={\n",
    "    'scaDates':'20181005',\n",
    "    'scaDate':'20181005',\n",
    "    'SqlMethod':'StockNo',\n",
    "    'StockNo':'2330',\n",
    "    'radioStockNo':'2330',\n",
    "    'StockName':'',\n",
    "    'REQ_OPR':'SELECT',\n",
    "    'clkStockNo':'2330',\n",
    "    'clkStockName':''\n",
    "}\n",
    "\n",
    "re=requests.post(url,data=payload, headers=headers).text\n",
    "soup = BS(re)\n",
    "data_table = soup.select('.mt')[1]\n",
    "for tr in data_table.select('tr'):\n",
    "    print(tr.select('td'))"
   ]
  }
 ]
}