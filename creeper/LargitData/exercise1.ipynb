{
 "nbformat": 4,
 "nbformat_minor": 2,
 "metadata": {
  "language_info": {
   "name": "python",
   "codemirror_mode": {
    "name": "ipython",
    "version": 3
   }
  },
  "orig_nbformat": 2,
  "file_extension": ".py",
  "mimetype": "text/x-python",
  "name": "python",
  "npconvert_exporter": "python",
  "pygments_lexer": "ipython3",
  "version": 3,
  "kernelspec": {
   "name": "python3",
   "display_name": "Python 3"
  }
 },
 "cells": [
  {
   "cell_type": "code",
   "execution_count": null,
   "metadata": {},
   "outputs": [],
   "source": [
    "import requests\n",
    "res = requests.get('https://trade.jinma.news/')\n",
    "print(res.text)"
   ]
  },
  {
   "cell_type": "code",
   "execution_count": 15,
   "metadata": {},
   "outputs": [
    {
     "name": "stdout",
     "output_type": "stream",
     "text": "[<h1 id=\"heading\">Some Header</h1>]\n"
    }
   ],
   "source": [
    "from bs4 import BeautifulSoup\n",
    "html_sample = ' \\\n",
    "<html> \\\n",
    " <body> \\\n",
    "    <h1 id=\"heading\">Some Header</h1> \\\n",
    "    <a class=\"link1\" href=\"https://d3js.org/d3.v5.min.js\">This is a link</a> \\\n",
    "    <a class=\"link2\" href=\"https://d3js.org/d3.v5.min.js\">This is a link2</a> \\\n",
    " </body> \\\n",
    "</html>'\n",
    "\n",
    "soup = BeautifulSoup(html_sample)\n",
    "print(soup.select('#heading'))"
   ]
  },
  {
   "cell_type": "code",
   "execution_count": null,
   "metadata": {},
   "outputs": [],
   "source": []
  }
 ]
}