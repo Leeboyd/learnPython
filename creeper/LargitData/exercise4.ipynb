{
 "nbformat": 4,
 "nbformat_minor": 2,
 "metadata": {
  "language_info": {
   "name": "python",
   "codemirror_mode": {
    "name": "ipython",
    "version": 3
   },
   "version": "3.7.4-final"
  },
  "orig_nbformat": 2,
  "file_extension": ".py",
  "mimetype": "text/x-python",
  "name": "python",
  "npconvert_exporter": "python",
  "pygments_lexer": "ipython3",
  "version": 3,
  "kernelspec": {
   "name": "python3",
   "display_name": "Python 3"
  }
 },
 "cells": [
  {
   "cell_type": "code",
   "execution_count": null,
   "metadata": {},
   "outputs": [],
   "source": [
    "import requests\n",
    "import re\n",
    "\n",
    "DOMAIN = 'https://www.stockdog.com.tw/stockdog/'\n",
    "headers = {\"User-Agent\":\"Mozilla/5.0 (Macintosh; Intel Mac OS X 10_13_6) AppleWebKit/537.36 (KHTML, like Gecko) Chrome/79.0.3945.130 Safari/537.36\"}\n",
    "querystring = {\"m\":\"overview\",\"sid\":\"3317 尼克森\"}\n",
    "\n",
    "session = requests.session()\n",
    "res = session.get(f'{DOMAIN}index.php?',params=querystring, headers=headers)\n",
    "\n",
    "all_url = re.findall('document.getElementById\\(\\'g\\d+\\'\\).innerHTML=\\'<iframe src=\\\"(.*?)\\\"', res.text)\n",
    "\n",
    "for url in all_url:\n",
    "    print(f'{DOMAIN}{url}')\n"
   ]
  }
 ]
}